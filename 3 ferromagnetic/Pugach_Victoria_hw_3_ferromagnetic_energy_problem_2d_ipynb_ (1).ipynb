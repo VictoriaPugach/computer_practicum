{
  "cells": [
    {
      "cell_type": "markdown",
      "id": "b698fd64-2a72-4c31-868c-dd8ada50e242",
      "metadata": {
        "id": "b698fd64-2a72-4c31-868c-dd8ada50e242"
      },
      "source": [
        "# Энергия ферромагнетика 2D (2023)"
      ]
    },
    {
      "cell_type": "markdown",
      "id": "fe9d5632-1d5c-428a-9b1d-5bcfdb58cb72",
      "metadata": {
        "id": "fe9d5632-1d5c-428a-9b1d-5bcfdb58cb72"
      },
      "source": [
        "### Условие задачи\n",
        "\n",
        "**Дано:**\n",
        "- двумерная решетка молекул, расположенных в узлах кристаллической решетки, размеров $L_x \\times L_y$ с периодическими границами\n",
        "- каждая молекула обладает спином +1 или -1\n",
        "- межмолекулярное взаимодействие описывается константами $J_{ij} = 1$\n",
        "- модель Изинга\n",
        "\n",
        "\n",
        "**Требуется:**\n",
        "- согласно модели Изинга рассчитать нормированное значение средней энергии $\\frac{\\langle E \\rangle}{Lx Ly}$ для указанной решетки молекул при:\n",
        "    - размерах решетки $L_x \\in [2, 3, ..., 8]$, $L_y = 4$\n",
        "    - температурах $kT \\in [1.0, 5.0)$ с шагом $0.1$\n",
        "- сохранить массив средних энергий при помощи `np.save`\n",
        "- вывести время расчета каждой итерации по $Lx$ или по $k T$\n",
        "- отобразить цветовую карту:\n",
        "    - ось абсцисс - $L_x$,\n",
        "    - ось ординат - $k T$,\n",
        "    - цветом отобразить нормированное значение средней энергии $\\frac{\\langle E \\rangle}{Lx Ly}$,\n",
        "    - подписать оси,\n",
        "    - отобразить цветовую шкалу (`colorbar`),\n",
        "    - засечки должны соответствовать значениям $Lx, kT$.\n",
        "- к каждой функции добавить `docstring` с описанием того, что функция делает, всех параметров и возвращаемого значения    \n",
        "\n",
        "**Описание:**\n",
        "\n",
        "**Одномерный случай**\n",
        "\n",
        "Модель Изинга является моделью магнетика. Пусть этот магнетик состоит из молекул, расположенных в узлах регулярной решетки. Пусть всего таких узлов будет $N$ штук, с индексами $i=1,\\ldots, N$.\n",
        "\n",
        "Предположим, что каждая молекула может быть представлена в виде магнитной стрелки, которая всегда либо направлена вдоль некоторой заданной оси, либо в противоположном направлении. То есть каждая молекула $i$ имеет две конфигурации, которые можно описывать с помощью \"спиновой\" переменной $\\sigma_i$. Эта переменная принимает значение $+1$ (параллельно оси, спин направлен вверх) и $-1$ (антипараллельно оси, спин направлен вниз).\n",
        "\n",
        "Пусть $\\sigma = \\{\\sigma_1, \\sigma_2, \\ldots, \\sigma_N\\}$ обозначает набор значений всех $N$ спинов. Имеется $2^N$ различных наборов $\\sigma$, и каждый из них описывает некоторое состояние системы.\n",
        "\n",
        "Гамильтониан системы  состоит из двух частей: первая $E_0$ включает вклад межмолекулярных сил внутри магнетика, а вторая $E_1(\\sigma)$ вклад от взаимодействий каждого спина с внешним магнитным полем (здесь считается нулевым).\n",
        "$$H(\\sigma)=E_0(\\sigma)+E_1(\\sigma)$$\n",
        "\n",
        "В любой физической системе мы предполагаем все взаимодействия инвариантными по отношению к обращению времени, что означает инвариантность $E$ при изменении знаков всех полей и намагниченностей. Энергия должна быть четной функцией от $\\sigma$:\n",
        "$$E_0(\\sigma_1,\\ldots, \\sigma_N)=E_0(-\\sigma_1,\\ldots, -\\sigma_N)$$\n",
        "\n",
        "Энергия системы при нулевом внешнем магнитном поле равна сумме произведений **соседних** спинов на константы взаимодействия $J_{ij}$\n",
        "$$E(\\sigma) = -\\sum_{i} J_{i,i+1}\\sigma_{i}\\sigma_{i+1} $$\n",
        "\n",
        "Вероятность находиться в состоянии $\\sigma$\n",
        "$$P(\\sigma)=\\frac{e^{-\\beta E(\\sigma)}}{Z},$$\n",
        "\tгде $Z = \\sum_{\\sigma} e^{-\\beta E(\\sigma)}-$ статистическая сумма, $\\beta = \\frac{1}{k T}-$ обратная температура, $k-$ константа Больцмана.\n",
        "\n",
        "Средняя энергия системы\n",
        "$$\\langle E \\rangle = \\frac{1}{Z}\\sum_{\\{\\sigma \\}} E(\\sigma)e^{-\\frac{E(\\sigma)}{kT}}$$\n",
        "рассчитывается по всевозможным состояниям системы, т.е. всевозможным наборам $\\sigma$.\n",
        "\n",
        "**Двумерный случай**\n",
        "\n",
        "В случае двумерной решетки энергия системы при нулевом внешнем магнитном поле вычисляется следующим образом:\n",
        "$$E(\\sigma) = -\\sum_{i,j} J_{ij}(\\sigma_{i,j}\\sigma_{i+1,j} + \\sigma_{i,j}\\sigma_{i,j+1})$$\n",
        "\n",
        "\n",
        "**Проверка корректности результатов**\n",
        "\n",
        "Нормированное значение средней энергии при температурах $kT \\in [1.0, 5.0)$:\n",
        "\n",
        "- для $L_x=4$\n",
        "\n",
        "```\n",
        " -1.99715844 -1.99396091 -1.98856632 -1.98016965 -1.96786355 -1.95064256\n",
        " -1.9274244  -1.89711215 -1.85871667 -1.81153907 -1.75538029 -1.69071311\n",
        " -1.61874282 -1.54131149 -1.46065977 -1.37911648 -1.29880759 -1.22145424\n",
        " -1.14828469 -1.0800446  -1.01706963 -0.95938399 -0.90679838 -0.85899291\n",
        " -0.8155803  -0.77615005 -0.74029707 -0.70763857 -0.67782287 -0.65053286\n",
        " -0.62548613 -0.60243323 -0.58115501 -0.56145948 -0.5431787  -0.52616582\n",
        " -0.5102923  -0.49544555 -0.48152673 -0.46844889\n",
        "```\n",
        "\n",
        "- для $L_x=5$\n",
        "\n",
        "```\n",
        " -1.99715893 -1.99396296 -1.98857263 -1.98018387 -1.96788363 -1.95063964\n",
        " -1.92729692 -1.89661121 -1.85735639 -1.80853133 -1.74965024 -1.68103752\n",
        " -1.60399878 -1.52075577 -1.43412763 -1.3470633  -1.26219309 -1.18153361\n",
        " -1.10638872 -1.03740747 -0.97472647 -0.918132   -0.86720255 -0.82141645\n",
        " -0.78022445 -0.74309384 -0.70953215 -0.67909749 -0.65140075 -0.62610332\n",
        " -0.60291264 -0.58157686 -0.56187952 -0.54363452 -0.52668165 -0.51088271\n",
        " -0.49611811 -0.48228409 -0.46929029 -0.45705774\n",
        "```\n",
        "\n",
        "**Материалы:**\n",
        "- [Бэкстер Р., Вольский Е. П., Дайхин Л. И. Точно решаемые модели в статистической механике](https://yadi.sk/i/2oY4c0bL08pNiw)\n",
        "- [Пример хорошего `docstring`](https://github.com/numpy/numpy/blob/v1.21.0/numpy/linalg/linalg.py#L313-L395)\n",
        "- [Зиннуров Б.Д., Якименко В.Я. Магнитные свойства модели Изинга в низких размерностях (МКР)](https://miem.hse.ru/data/2018/05/24/1149431665/model_Izinga_-_Zinnurov_Yakimenko.pdf)\n",
        "\n",
        "\n",
        "**Правила оценивания:**\n",
        "\n",
        "- оценка за корректно выполненный расчет для количества молекул в цепочке $L_x$, баллов из 100:\n",
        "```\n",
        "    Lx    =   2,   3,   4,   5,    6,    7,     8\n",
        "    g(Lx) = 1.0, 1.8, 3.3, 6.4, 12.6, 24.9,  50.0\n",
        "```\n",
        "    \n",
        "- штрафы $p(i)$, баллов:\n",
        "    - не выведено время расчета - 20\n",
        "    - не выведены значения средней энергии - 20\n",
        "    - не построена карта - 20\n",
        "    - отсутствует `docstring` - 20\n",
        "    - менее значимые недоработки - 10\n",
        "\n",
        "\n",
        "- итоговая оценка за задание = $\\sum_{Lx=2}^{8}{g(Lx)} - \\sum_{i}{p(i)}$\n"
      ]
    },
    {
      "cell_type": "markdown",
      "source": [
        "\n",
        "\n",
        "\n",
        "\n",
        "## **Решение**"
      ],
      "metadata": {
        "id": "s_QKDYZK4Hhd"
      },
      "id": "s_QKDYZK4Hhd"
    },
    {
      "cell_type": "code",
      "source": [
        "import numpy as np\n",
        "import itertools # Библиотека для апгрейда итерации\n",
        "import matplotlib.pyplot as plt\n",
        "\n",
        "from timeit import timeit\n",
        "from numba import njit, prange\n",
        "from tqdm import trange"
      ],
      "metadata": {
        "id": "NPrz9m0u4RV1"
      },
      "id": "NPrz9m0u4RV1",
      "execution_count": 85,
      "outputs": []
    },
    {
      "cell_type": "code",
      "source": [
        "Ly = 4 # Высота решетки\n",
        "Lx_array = np.arange(2, 9).astype(int) # Массив ширины решетки (потом решила для trange просто не использовать это, =)   )\n",
        "kT = np.arange(1, 5, 0.1)\n",
        "\n",
        "# Межмолекулярное взаимодействие в нашем случае описывается константами Jij = 1.\n",
        "# Поэтому буду использовать одну константу J = 1\n",
        "J = 1"
      ],
      "metadata": {
        "id": "LNAltRCZ-Te2"
      },
      "id": "LNAltRCZ-Te2",
      "execution_count": 2,
      "outputs": []
    },
    {
      "cell_type": "code",
      "source": [
        "def energy_at_zero_magnetic_field(sigma_arr:np.ndarray, Lx:int): # Но эта функция не работатет с нумба, тк используются срезы\n",
        "    \"\"\"\n",
        "    Функция подсчитывает энергию системы при нулевом внешнем магнитном поле.\n",
        "    Она равна сумме произведений соседних спинов на константы взаимодействия Jij.\n",
        "\n",
        "    Параметры:\n",
        "    sigma_arr : ndarray;       двумерный массив значений всех спинов в узнал решетки\n",
        "    Lx: int;                   ширина решетки\n",
        "\n",
        "    Возвращаемое значение:\n",
        "    sum :  float;              энергия двумерной решетки при нулевом магнитном поле\n",
        "    \"\"\"\n",
        "    sigma_arr = np.array(sigma_arr).reshape(Lx,Ly) # Изначально product создает вектора длины Lx*Ly. Я хочу работать с ними как с двумерным массивом\n",
        "\n",
        "    shift_y = sigma_arr.copy() # будем брать соседние элементы так: сначала создаю \"сдвинутую матрицу\" по оси х и по оси y. А затем суммирую элементы, стоящие на тех местах, где стоит изначальный элемент\n",
        "    shift_y[:-1] = sigma_arr[1:] # сдвиг по оси y\n",
        "    shift_y[-1] = sigma_arr[0]\n",
        "\n",
        "    shift_x = sigma_arr.copy() # сдвиг по оси x\n",
        "    shift_x[:,:-1] = sigma_arr[:,1:]\n",
        "    shift_x[:,-1] = sigma_arr[:,0]\n",
        "\n",
        "    return -np.sum(J*sigma_arr*(shift_y + shift_x)) # Домножаю на J просто для наглядности.\n",
        "                                                     # Но здесь и далее J=1"
      ],
      "metadata": {
        "id": "ie-FI0MA_gx-"
      },
      "id": "ie-FI0MA_gx-",
      "execution_count": 119,
      "outputs": []
    },
    {
      "cell_type": "code",
      "source": [
        "def mean_energy_func(Lx:int):\n",
        "    \"\"\"\n",
        "    Функция вычисляет среднюю энергию системы по формуле:\n",
        "    (сумма энергий системы при нулевой магнитном поле) * (экспоненциальный компонент) / (статистическая сумма)\n",
        "\n",
        "    Параметры:\n",
        "    Lx: float;               ширина решетки\n",
        "\n",
        "    Возвращаемое значение:\n",
        "    E_mean:  float;          cредняя энергия системы\n",
        "    \"\"\"\n",
        "\n",
        "    Sum_E = 0 # Компонент суммы в формуле для вычисляния средней энерргии системы\n",
        "    Z = 0     # Статистическая сумма\n",
        "    N = Ly*Lx\n",
        "\n",
        "    for sigma_mtrx_var in itertools.product([-1,1], repeat = N): # К сожалению, product не нравится нумбе. Это медленное решение\n",
        "                                                # Проходимся по всем возможным конфигурациям\n",
        "                                                # Всего имеется 2**N различных наборов спинов, где N - количество узлов решетки\n",
        "                                                # Функция перебирает все возможные различные варианты составить матрицу\n",
        "                                                # Из 2**(Ly*Lx) элементов, каждый из которых равен 1 или -1\n",
        "      E_sigma = energy_at_zero_magnetic_field(sigma_mtrx_var, Lx)\n",
        "      e_comp = np.exp(-E_sigma/kT)\n",
        "      Z += e_comp\n",
        "      Sum_E += e_comp*E_sigma\n",
        "\n",
        "    return Sum_E/Z"
      ],
      "metadata": {
        "id": "UpP_NV7TFbzr"
      },
      "id": "UpP_NV7TFbzr",
      "execution_count": 120,
      "outputs": []
    },
    {
      "cell_type": "code",
      "source": [
        "def result_func(Lx_temp:int):\n",
        "  \"\"\"\n",
        "  Функция рассчитывает массив средних энергий для текущего значения по оси абсцисс,\n",
        "  а затем печатает его в поток вывода.\n",
        "\n",
        "  Параметры:\n",
        "  Lx_temp: float;      рассматриваемое значение ширины решетки\n",
        "\n",
        "  Возвращаемое значение:\n",
        "  E_res: array;        возвращает энергию\n",
        "  \"\"\"\n",
        "  E_res = mean_energy_func(Lx_temp)\n",
        "  np.save(f'Energy_Lx_{Lx_temp}', np.array(E_res/(Ly*Lx_temp))) # Записываем массив, нормированный относительно размера решетки\n",
        "\n",
        "  # print(E_res/(Ly*Lx_temp))   # Строчка нужна была для теста\n",
        "  return E_res"
      ],
      "metadata": {
        "id": "JOd5jUjUK-IJ"
      },
      "id": "JOd5jUjUK-IJ",
      "execution_count": 124,
      "outputs": []
    },
    {
      "cell_type": "markdown",
      "source": [
        "##Подсчет для Lx = 4"
      ],
      "metadata": {
        "id": "e0cwmLm8R1vU"
      },
      "id": "e0cwmLm8R1vU"
    },
    {
      "cell_type": "code",
      "source": [
        "%%time\n",
        "result_func(4)"
      ],
      "metadata": {
        "colab": {
          "base_uri": "https://localhost:8080/"
        },
        "id": "fJQqZNAQRPDz",
        "outputId": "11714a23-7abd-4f39-9e8a-caf9a19d5b32"
      },
      "id": "fJQqZNAQRPDz",
      "execution_count": 122,
      "outputs": [
        {
          "output_type": "stream",
          "name": "stdout",
          "text": [
            "[-1.99715844 -1.99396091 -1.98856632 -1.98016965 -1.96786355 -1.95064256\n",
            " -1.9274244  -1.89711215 -1.85871667 -1.81153907 -1.75538029 -1.69071311\n",
            " -1.61874282 -1.54131149 -1.46065977 -1.37911648 -1.29880759 -1.22145424\n",
            " -1.14828469 -1.0800446  -1.01706963 -0.95938399 -0.90679838 -0.85899291\n",
            " -0.8155803  -0.77615005 -0.74029707 -0.70763857 -0.67782287 -0.65053286\n",
            " -0.62548613 -0.60243323 -0.58115501 -0.56145948 -0.5431787  -0.52616582\n",
            " -0.5102923  -0.49544555 -0.48152673 -0.46844889]\n",
            "CPU times: user 1.46 s, sys: 0 ns, total: 1.46 s\n",
            "Wall time: 1.47 s\n"
          ]
        }
      ]
    },
    {
      "cell_type": "markdown",
      "source": [
        "Для 4 **сошлось**, поэтому можно запустить для всех остальных"
      ],
      "metadata": {
        "id": "y6-SpnwmgTHi"
      },
      "id": "y6-SpnwmgTHi"
    },
    {
      "cell_type": "code",
      "source": [
        "%%time\n",
        "result_func(5)"
      ],
      "metadata": {
        "colab": {
          "base_uri": "https://localhost:8080/"
        },
        "id": "mEAn5-Bkc5Xo",
        "outputId": "bc3721c4-75d5-45fd-875c-251f99398065"
      },
      "id": "mEAn5-Bkc5Xo",
      "execution_count": null,
      "outputs": [
        {
          "output_type": "stream",
          "name": "stdout",
          "text": [
            "[-1.99715893 -1.99396296 -1.98857263 -1.98018387 -1.96788363 -1.95063964\n",
            " -1.92729692 -1.89661121 -1.85735639 -1.80853133 -1.74965024 -1.68103752\n",
            " -1.60399878 -1.52075577 -1.43412763 -1.3470633  -1.26219309 -1.18153361\n",
            " -1.10638872 -1.03740747 -0.97472647 -0.918132   -0.86720255 -0.82141645\n",
            " -0.78022445 -0.74309384 -0.70953215 -0.67909749 -0.65140075 -0.62610332\n",
            " -0.60291264 -0.58157686 -0.56187952 -0.54363452 -0.52668165 -0.51088271\n",
            " -0.49611811 -0.48228409 -0.46929029 -0.45705774]\n",
            "CPU times: user 29.9 s, sys: 68.2 ms, total: 29.9 s\n",
            "Wall time: 30.9 s\n"
          ]
        },
        {
          "output_type": "execute_result",
          "data": {
            "text/plain": [
              "array([-39.94317857, -39.87925925, -39.77145267, -39.60367742,\n",
              "       -39.35767264, -39.01279276, -38.54593836, -37.93222417,\n",
              "       -37.14712781, -36.17062651, -34.99300486, -33.62075037,\n",
              "       -32.07997556, -30.41511537, -28.68255262, -26.94126608,\n",
              "       -25.2438617 , -23.63067213, -22.12777444, -20.74814941,\n",
              "       -19.49452933, -18.36263996, -17.34405103, -16.42832902,\n",
              "       -15.60448897, -14.86187673, -14.190643  , -13.58194984,\n",
              "       -13.02801499, -12.52206646, -12.05825283, -11.63153727,\n",
              "       -11.23759043, -10.87269039, -10.53363307, -10.21765418,\n",
              "        -9.92236225,  -9.64568187,  -9.38580579,  -9.14115472])"
            ]
          },
          "metadata": {},
          "execution_count": 9
        }
      ]
    },
    {
      "cell_type": "code",
      "source": [
        "for x in Lx_array[:-3]:    # Lx_array = [2,3,4,5,6,7,8]. Но я прохожусь для первых 4\n",
        "  print('\\nFor Lx = ', x, '\\n')\n",
        "  %time Energy = result_func(x)\n",
        "  np.save(f'energy_when_Lx_{x}', np.array(Energy/(Ly*x))) # Сохраняю результат вычислений в файл\n",
        "  print(Energy/(Ly*x))"
      ],
      "metadata": {
        "colab": {
          "base_uri": "https://localhost:8080/"
        },
        "id": "rxeo-NYYc8Yv",
        "outputId": "bfe0d988-90ec-432e-97ee-17c925644cb5"
      },
      "id": "rxeo-NYYc8Yv",
      "execution_count": 126,
      "outputs": [
        {
          "output_type": "stream",
          "name": "stdout",
          "text": [
            "\n",
            "For Lx =  2 \n",
            "\n",
            "CPU times: user 10.5 ms, sys: 3.02 ms, total: 13.5 ms\n",
            "Wall time: 13 ms\n",
            "[-1.99509474 -1.98967862 -1.98074878 -1.96731117 -1.94851445 -1.92375828\n",
            " -1.89277291 -1.85565639 -1.81286316 -1.76514762 -1.71347563 -1.65892227\n",
            " -1.60257405 -1.5454491  -1.48844224 -1.43229537 -1.3775895  -1.3247523\n",
            " -1.27407538 -1.22573609 -1.17982015 -1.13634286 -1.09526756 -1.05652101\n",
            " -1.02000562 -0.98560898 -0.9532109  -0.92268862 -0.89392045 -0.86678827\n",
            " -0.84117913 -0.8169862  -0.79410926 -0.77245486 -0.75193626 -0.73247322\n",
            " -0.71399168 -0.69642337 -0.67970548 -0.66378023]\n",
            "\n",
            "For Lx =  3 \n",
            "\n",
            "CPU times: user 93 ms, sys: 1.99 ms, total: 95 ms\n",
            "Wall time: 94.5 ms\n",
            "[-1.99711779 -1.99383665 -1.98825271 -1.97949351 -1.96659182 -1.94853206\n",
            " -1.92432618 -1.89312223 -1.85433583 -1.80777902 -1.75375117 -1.69305981\n",
            " -1.62695673 -1.55700043 -1.48487836 -1.41223059 -1.34050963 -1.27089443\n",
            " -1.20425882 -1.14118312 -1.08199278 -1.02680913 -0.97560137 -0.92823315\n",
            " -0.88450084 -0.84416295 -0.80696158 -0.77263715 -0.7409381  -0.71162671\n",
            " -0.68448222 -0.65930219 -0.63590256 -0.61411702 -0.5937959  -0.57480491\n",
            " -0.55702372 -0.54034463 -0.52467121 -0.50991714]\n",
            "\n",
            "For Lx =  4 \n",
            "\n",
            "CPU times: user 1.44 s, sys: 6.89 ms, total: 1.44 s\n",
            "Wall time: 1.45 s\n",
            "[-1.99715844 -1.99396091 -1.98856632 -1.98016965 -1.96786355 -1.95064256\n",
            " -1.9274244  -1.89711215 -1.85871667 -1.81153907 -1.75538029 -1.69071311\n",
            " -1.61874282 -1.54131149 -1.46065977 -1.37911648 -1.29880759 -1.22145424\n",
            " -1.14828469 -1.0800446  -1.01706963 -0.95938399 -0.90679838 -0.85899291\n",
            " -0.8155803  -0.77615005 -0.74029707 -0.70763857 -0.67782287 -0.65053286\n",
            " -0.62548613 -0.60243323 -0.58115501 -0.56145948 -0.5431787  -0.52616582\n",
            " -0.5102923  -0.49544555 -0.48152673 -0.46844889]\n",
            "\n",
            "For Lx =  5 \n",
            "\n",
            "CPU times: user 26.1 s, sys: 78.8 ms, total: 26.2 s\n",
            "Wall time: 27.7 s\n",
            "[-1.99715893 -1.99396296 -1.98857263 -1.98018387 -1.96788363 -1.95063964\n",
            " -1.92729692 -1.89661121 -1.85735639 -1.80853133 -1.74965024 -1.68103752\n",
            " -1.60399878 -1.52075577 -1.43412763 -1.3470633  -1.26219309 -1.18153361\n",
            " -1.10638872 -1.03740747 -0.97472647 -0.918132   -0.86720255 -0.82141645\n",
            " -0.78022445 -0.74309384 -0.70953215 -0.67909749 -0.65140075 -0.62610332\n",
            " -0.60291264 -0.58157686 -0.56187952 -0.54363452 -0.52668165 -0.51088271\n",
            " -0.49611811 -0.48228409 -0.46929029 -0.45705774]\n"
          ]
        }
      ]
    },
    {
      "cell_type": "markdown",
      "source": [
        "Но такое решение слишком медленное, для 8 дожидаться слишком долго. Поэтому необходимо улучшить функцию, чтобы не пришлось ждать 7 часов...."
      ],
      "metadata": {
        "id": "vUW4JazPVP9X"
      },
      "id": "vUW4JazPVP9X"
    },
    {
      "cell_type": "code",
      "source": [
        "Lx_2 = np.load(\"energy_when_Lx_2.npy\")\n",
        "Lx_3 = np.load(\"energy_when_Lx_3.npy\")\n",
        "Lx_4 = np.load(\"energy_when_Lx_4.npy\")\n",
        "Lx_5 = np.load(\"energy_when_Lx_5.npy\")\n",
        "Lx_6 = np.load(\"energy_when_Lx_6.npy\") # когда я исправляла код на быстрый,\n",
        "                                       # я случайно запустила код заново, время не сохранилось)))\n",
        "                                       # поэтому тут я строила по уже посчитанным ранее файлам, но время будет выведено позже с уже быстрым алгоритмом\n",
        "Lx_7 = np.load(\"energy_when_Lx_7.npy\")\n",
        "# Energy_Lx8=np.load(\"mean_Energy_Lx8.npy\")"
      ],
      "metadata": {
        "id": "aN4kofmOAUiQ"
      },
      "id": "aN4kofmOAUiQ",
      "execution_count": 127,
      "outputs": []
    },
    {
      "cell_type": "code",
      "source": [
        "energy_arr = np.array([Lx_2, Lx_3, Lx_4, Lx_5, Lx_6, Lx_7])\n",
        "energy_arr = energy_arr.transpose()\n",
        "\n",
        "figure, axes=plt.subplots()\n",
        "\n",
        "Lx_temp = np.array([2,3,4,5,6,7])\n",
        "\n",
        "tick_x=np.arange(0,Lx_temp.size)\n",
        "axes.set_xticks(tick_x) # мы выбираем какие значения будут подписаны на графике\n",
        "axes.set_xticklabels(Lx_temp) # подписаваем выбранные значения\n",
        "\n",
        "tick_y=np.arange(0,kT.size,10)\n",
        "axes.set_yticks(tick_y) # мы выбираем какие значения будут подписаны на графике по оси ординат\n",
        "axes.set_yticklabels(np.round(kT[::10],1))# подписаваем выбранными значениями с шагом 10\n",
        "\n",
        "axes.set_xlabel('Значения Lx, для которых вычислялась энергия') # устанавливаем название оси абцисс как 'Lx'\n",
        "axes.set_ylabel('Температура kT') # устанавливаем название оси ординат как 'Kt'\n",
        "\n",
        "\n",
        "plt.pcolormesh(energy_arr,cmap='gnuplot2')# отобразить цветовую карту\n",
        "plt.colorbar();"
      ],
      "metadata": {
        "colab": {
          "base_uri": "https://localhost:8080/",
          "height": 449
        },
        "id": "2dR4z-rgBn8I",
        "outputId": "376fa821-dd1f-40d8-81a3-bf3f8acb8f10"
      },
      "id": "2dR4z-rgBn8I",
      "execution_count": null,
      "outputs": [
        {
          "output_type": "display_data",
          "data": {
            "text/plain": [
              "<Figure size 640x480 with 2 Axes>"
            ],
            "image/png": "[encoded data removed]"
          },
          "metadata": {}
        }
      ]
    },
    {
      "cell_type": "markdown",
      "source": [
        "# **Функция за 12 часов вычислений не подсчитала для 8. По моим расчетам, раз для Lx = 7 оно считало 2 часа, а для Lx = 8 необходимо посчитать в 16 раз больше..... В общем, результатов вычислений таким способом я не дождусь**"
      ],
      "metadata": {
        "id": "E9GX_i5Dq-94"
      },
      "id": "E9GX_i5Dq-94"
    },
    {
      "cell_type": "markdown",
      "source": [
        "Для решения вторым способом необходимо вернуться к одномерному случаю. Если записать двумерную матрицу в строку, то нам не понадобится использовать product для перебора матриц, благодаря чему получится использовать njit (numba не воспринимает product)\n",
        "\n",
        "Мы будем пересчитывать массив сигм не проверкой координат слева-справа-сверхку и снизу, а лишь проверять элементы справа и слева от текущего (как на семинаре)"
      ],
      "metadata": {
        "id": "yPBjy446rYvt"
      },
      "id": "yPBjy446rYvt"
    },
    {
      "cell_type": "code",
      "source": [
        "@njit\n",
        "def product_FAST(it, N) -> np.ndarray:\n",
        "    \"\"\"\n",
        "    Функция, для создания массива сигм. до этого использовался product. Теперь вместо product\n",
        "    Будет эта функция, которая будет возращать одномерный массив сигм\n",
        "\n",
        "    Параметры:\n",
        "    it : int;          целое число, по которому будет строиться вектор сигм\n",
        "    N : int;           количество элементов в векторе = (Lx*Ly)\n",
        "\n",
        "    Возвращаемое значение:\n",
        "    sigma_vec: array;  вектор из сигм (-1 и 1), который уже потом преобразуем в матрицу\n",
        "    \"\"\"\n",
        "    sigma_vec = np.empty(N, dtype=np.int8)\n",
        "    for i in range(N):\n",
        "        sigma_vec[i] = (it & 1) * 2 - 1 # Мы представляем номер итерации в двоичной системе счисления (из 0 и 1)\n",
        "                                        # Когда умножим на 2 (0 или 1), получим либо 0, либо 2\n",
        "                                        # Поэтому когда вычтем 1, получим либо 1, либо -1 (что нам и нужно)\n",
        "                                        # а представление разных чисел от 0 до Lx*Ly в двоичной системе счисления различно\n",
        "                                        # то есть мы переберем все различные значения\n",
        "        it = it >> 1 # побитовый сдвиг, проходим по каждой цифре двоичного представления числа\n",
        "    return sigma_vec"
      ],
      "metadata": {
        "id": "hYqYBDWYwPja"
      },
      "id": "hYqYBDWYwPja",
      "execution_count": 128,
      "outputs": []
    },
    {
      "cell_type": "code",
      "source": [
        "@njit\n",
        "def energy_at_zero_magnetic_field_FAST(sigma_arr:np.ndarray, Lx:int):\n",
        "    \"\"\"\n",
        "    Функция подсчитывает энергию системы при нулевом внешнем магнитном поле.\n",
        "    Она равна сумме произведений соседних спинов на константы взаимодействия Jij.\n",
        "\n",
        "    Параметры:\n",
        "    sigma_arr : ndarray;       двумерный массив значений всех спинов в узнал решетки\n",
        "    Lx: int;                   ширина решетки\n",
        "\n",
        "    Возвращаемое значение:\n",
        "    sum :  float;              энергия двумерной решетки при нулевом магнитном поле\n",
        "    \"\"\"\n",
        "\n",
        "    # Пришлось эту функцию тоже изменить, так как опытным путем пришла к тому,\n",
        "    # что нумба не умеет работать со срезами (?)\n",
        "    E = 0\n",
        "    for i in range(-1, len(sigma_arr) - 1):\n",
        "        for j in range(-1, len(sigma_arr[0]) - 1):\n",
        "            E -= J*sigma_arr[i][j] * (sigma_arr[i + 1][j] + sigma_arr[i][j + 1])\n",
        "    return E"
      ],
      "metadata": {
        "id": "kCWTbtyOFwo4"
      },
      "id": "kCWTbtyOFwo4",
      "execution_count": 129,
      "outputs": []
    },
    {
      "cell_type": "code",
      "source": [
        "@njit(parallel=True)\n",
        "def mean_energy_FAST(Lx:int):\n",
        "    \"\"\"\n",
        "    Функция вычисляет среднюю энергию системы по формуле:\n",
        "    (сумма энергий системы при нулевой магнитном поле) * (экспоненциальный компонент) / (статистическая сумма)\n",
        "\n",
        "    Параметры:\n",
        "    Lx: float;               ширина решетки\n",
        "\n",
        "    Возвращаемое значение:\n",
        "    E_mean:  float;          cредняя энергия системы\n",
        "    \"\"\"\n",
        "\n",
        "    # Ранее я очень сильно отдавала все на откуп нумпая, и он преобразовывал kT в то, что мне нужно\n",
        "    # Но для нумбы нужно конкретно объяснить тип переменных\n",
        "    Sum_E_new = np.zeros(len(kT)) # Компонент суммы в формуле для вычисляния средней энерргии системы\n",
        "    Z_new = np.zeros(len(kT))     # Статистическая сумма\n",
        "    N = Ly*Lx\n",
        "\n",
        "    for it in prange(2**(N)): # Проходим по всем числам от 0 до 2**(N). В двоичной системе счисления они будут иметь разное представление\n",
        "      sigma_vec = product_FAST(it, N) # Здесь мы вызываем нашу новую быструю функцию\n",
        "      sigma_mtrx_var = sigma_vec.reshape(Ly, Lx) # преобразуем вектор, возвращаемый product_NEW в матрицу\n",
        "\n",
        "      E_sigma = energy_at_zero_magnetic_field_FAST(sigma_mtrx_var, Lx)\n",
        "      e_comp = np.exp(-E_sigma/kT)\n",
        "      Z_new += e_comp\n",
        "      Sum_E_new += e_comp*E_sigma\n",
        "\n",
        "    return Sum_E_new/Z_new"
      ],
      "metadata": {
        "id": "vB7xO2aVwqUl"
      },
      "id": "vB7xO2aVwqUl",
      "execution_count": 136,
      "outputs": []
    },
    {
      "cell_type": "code",
      "source": [
        "def result_FAST(Lx_temp) -> np.ndarray:\n",
        "  \"\"\"\n",
        "  Функция рассчитывает массив средних энергий для текущего значения по оси абсцисс,\n",
        "  а затем печатает его в поток вывода.\n",
        "\n",
        "  Параметры:\n",
        "  Lx_temp: float;      рассматриваемое значение ширины решетки\n",
        "\n",
        "  Возвращаемое значение:\n",
        "  E_res: array;        возвращает энергию\n",
        "  \"\"\"\n",
        "  E_res = mean_energy_FAST(Lx_temp)\n",
        "  np.save(f'Energy_Lx_{Lx_temp}', np.array(E_res/(Ly*Lx_temp))) # Записываем массив, нормированный относительно размера решетки\n",
        "\n",
        "  # print(E_res/(Ly*Lx_temp))   # Строчка нужна была для теста\n",
        "  return E_res"
      ],
      "metadata": {
        "id": "Rh2H7smT7hs2"
      },
      "id": "Rh2H7smT7hs2",
      "execution_count": 137,
      "outputs": []
    },
    {
      "cell_type": "code",
      "source": [
        "for x in Lx_array:    # Lx_array = [2,3,4,5,6,7,8]. Но я прохожусь для первых 4\n",
        "  print('\\nFor Lx = ', x, '\\n')\n",
        "  %time Energy = result_FAST(x)\n",
        "  np.save(f'energy_when_Lx_{x}', np.array(Energy/(Ly*x))) # Сохраняю результат вычислений в файл\n",
        "  print(Energy/(Ly*x))"
      ],
      "metadata": {
        "colab": {
          "base_uri": "https://localhost:8080/"
        },
        "id": "fCaWppVp-HwR",
        "outputId": "6595a4d7-ef39-4379-eb03-15d0665eed7a"
      },
      "id": "fCaWppVp-HwR",
      "execution_count": 138,
      "outputs": [
        {
          "output_type": "stream",
          "name": "stdout",
          "text": [
            "\n",
            "For Lx =  2 \n",
            "\n",
            "CPU times: user 3.55 s, sys: 17.7 ms, total: 3.57 s\n",
            "Wall time: 3.58 s\n",
            "[-1.99509474 -1.98967862 -1.98074878 -1.96731117 -1.94851445 -1.92375828\n",
            " -1.89277291 -1.85565639 -1.81286316 -1.76514762 -1.71347563 -1.65892227\n",
            " -1.60257405 -1.5454491  -1.48844224 -1.43229537 -1.3775895  -1.3247523\n",
            " -1.27407538 -1.22573609 -1.17982015 -1.13634286 -1.09526756 -1.05652101\n",
            " -1.02000562 -0.98560898 -0.9532109  -0.92268862 -0.89392045 -0.86678827\n",
            " -0.84117913 -0.8169862  -0.79410926 -0.77245486 -0.75193626 -0.73247322\n",
            " -0.71399168 -0.69642337 -0.67970548 -0.66378023]\n",
            "\n",
            "For Lx =  3 \n",
            "\n",
            "CPU times: user 4.29 ms, sys: 2.02 ms, total: 6.31 ms\n",
            "Wall time: 4.77 ms\n",
            "[-1.99711779 -1.99383665 -1.98825271 -1.97949351 -1.96659182 -1.94853206\n",
            " -1.92432618 -1.89312223 -1.85433583 -1.80777902 -1.75375117 -1.69305981\n",
            " -1.62695673 -1.55700043 -1.48487836 -1.41223059 -1.34050963 -1.27089443\n",
            " -1.20425882 -1.14118312 -1.08199278 -1.02680913 -0.97560137 -0.92823315\n",
            " -0.88450084 -0.84416295 -0.80696158 -0.77263715 -0.7409381  -0.71162671\n",
            " -0.68448222 -0.65930219 -0.63590256 -0.61411702 -0.5937959  -0.57480491\n",
            " -0.55702372 -0.54034463 -0.52467121 -0.50991714]\n",
            "\n",
            "For Lx =  4 \n",
            "\n",
            "CPU times: user 69.6 ms, sys: 0 ns, total: 69.6 ms\n",
            "Wall time: 35.1 ms\n",
            "[-1.99715844 -1.99396091 -1.98856632 -1.98016965 -1.96786355 -1.95064256\n",
            " -1.9274244  -1.89711215 -1.85871667 -1.81153907 -1.75538029 -1.69071311\n",
            " -1.61874282 -1.54131149 -1.46065977 -1.37911648 -1.29880759 -1.22145424\n",
            " -1.14828469 -1.0800446  -1.01706963 -0.95938399 -0.90679838 -0.85899291\n",
            " -0.8155803  -0.77615005 -0.74029707 -0.70763857 -0.67782287 -0.65053286\n",
            " -0.62548613 -0.60243323 -0.58115501 -0.56145948 -0.5431787  -0.52616582\n",
            " -0.5102923  -0.49544555 -0.48152673 -0.46844889]\n",
            "\n",
            "For Lx =  5 \n",
            "\n",
            "CPU times: user 1.14 s, sys: 3.89 ms, total: 1.15 s\n",
            "Wall time: 590 ms\n",
            "[-1.99715893 -1.99396296 -1.98857263 -1.98018387 -1.96788363 -1.95063964\n",
            " -1.92729692 -1.89661121 -1.85735639 -1.80853133 -1.74965024 -1.68103752\n",
            " -1.60399878 -1.52075577 -1.43412763 -1.3470633  -1.26219309 -1.18153361\n",
            " -1.10638872 -1.03740747 -0.97472647 -0.918132   -0.86720255 -0.82141645\n",
            " -0.78022445 -0.74309384 -0.70953215 -0.67909749 -0.65140075 -0.62610332\n",
            " -0.60291264 -0.58157686 -0.56187952 -0.54363452 -0.52668165 -0.51088271\n",
            " -0.49611811 -0.48228409 -0.46929029 -0.45705774]\n",
            "\n",
            "For Lx =  6 \n",
            "\n",
            "CPU times: user 17.4 s, sys: 17.4 ms, total: 17.5 s\n",
            "Wall time: 10.8 s\n",
            "[-1.99715857 -1.99396113 -1.9885651  -1.98015781 -1.96780519 -1.95042956\n",
            " -1.92678909 -1.89549406 -1.8551112  -1.80440326 -1.74270304 -1.67032537\n",
            " -1.58882722 -1.50092868 -1.41005807 -1.31969261 -1.23276666 -1.15134108\n",
            " -1.07656139 -1.00881115 -0.94793988 -0.8934793  -0.84480933 -0.8012682\n",
            " -0.76221687 -0.72707144 -0.69531564 -0.66650184 -0.6402464  -0.61622247\n",
            " -0.59415234 -0.57380002 -0.55496464 -0.53747479 -0.52118369 -0.50596511\n",
            " -0.49171009 -0.47832415 -0.46572503 -0.45384075]\n",
            "\n",
            "For Lx =  7 \n",
            "\n",
            "CPU times: user 4min 53s, sys: 447 ms, total: 4min 54s\n",
            "Wall time: 2min 54s\n",
            "[-1.9971582  -1.99395917 -1.98855691 -1.98012917 -1.96771861 -1.95019835\n",
            " -1.92623542 -1.89429394 -1.85274448 -1.80014858 -1.73572886 -1.65989967\n",
            " -1.57458935 -1.48308936 -1.38940408 -1.29738702 -1.21005576 -1.12930451\n",
            " -1.05597909 -0.99014354 -0.93137801 -0.87902058 -0.83233016 -0.79058107\n",
            " -0.75310988 -0.71933295 -0.68874798 -0.66092782 -0.63551132 -0.61219363\n",
            " -0.59071721 -0.5708639  -0.55244826 -0.53531194 -0.51931914 -0.50435283\n",
            " -0.49031169 -0.47710754 -0.46466335 -0.45291152]\n",
            "\n",
            "For Lx =  8 \n",
            "\n",
            "CPU times: user 1h 22min 16s, sys: 10.1 s, total: 1h 22min 26s\n",
            "Wall time: 50min 27s\n",
            "[-1.99715782 -1.99395721 -1.9885487  -1.98010037 -1.96763138 -1.94996516\n",
            " -1.92567742 -1.89308834 -1.85038372 -1.79595518 -1.72897962 -1.650065\n",
            " -1.56159884 -1.46746091 -1.37213468 -1.27966284 -1.19294768 -1.11358151\n",
            " -1.04206618 -0.97817672 -0.92129526 -0.87064766 -0.82544474 -0.78495363\n",
            " -0.74852625 -0.7156046  -0.68571477 -0.65845691 -0.63349416 -0.61054232\n",
            " -0.58936109 -0.56974634 -0.55152389 -0.53454442 -0.51867942 -0.50381755\n",
            " -0.48986204 -0.47672839 -0.46434245 -0.45263888]\n"
          ]
        }
      ]
    },
    {
      "cell_type": "code",
      "source": [
        "Lx_2 = np.load(\"energy_when_Lx_2.npy\")\n",
        "Lx_3 = np.load(\"energy_when_Lx_3.npy\")\n",
        "Lx_4 = np.load(\"energy_when_Lx_4.npy\")\n",
        "Lx_5 = np.load(\"energy_when_Lx_5.npy\")\n",
        "Lx_6 = np.load(\"energy_when_Lx_6.npy\")\n",
        "Lx_7 = np.load(\"energy_when_Lx_7.npy\")\n",
        "Lx_8 = np.load(\"energy_when_Lx_8.npy\")"
      ],
      "metadata": {
        "id": "fUL9UNvF-Tk6"
      },
      "id": "fUL9UNvF-Tk6",
      "execution_count": 139,
      "outputs": []
    },
    {
      "cell_type": "code",
      "source": [
        "energy_arr = np.array([Lx_2, Lx_3, Lx_4, Lx_5, Lx_6, Lx_7, Lx_8])\n",
        "energy_arr = energy_arr.transpose()\n",
        "\n",
        "figure, axes=plt.subplots()\n",
        "\n",
        "Lx_temp = np.array([2,3,4,5,6,7,8])\n",
        "\n",
        "tick_x=np.arange(0,Lx_temp.size)\n",
        "axes.set_xticks(tick_x) # мы выбираем какие значения будут подписаны на графике\n",
        "axes.set_xticklabels(Lx_temp) # подписаваем выбранные значения\n",
        "\n",
        "tick_y=np.arange(0,kT.size,10)\n",
        "axes.set_yticks(tick_y) # мы выбираем какие значения будут подписаны на графике по оси ординат\n",
        "axes.set_yticklabels(np.round(kT[::10],1))# подписаваем выбранными значениями с шагом 10\n",
        "\n",
        "axes.set_xlabel('Значения Lx, для которых вычислялась энергия') # устанавливаем название оси абцисс как 'Lx'\n",
        "axes.set_ylabel('Температура kT') # устанавливаем название оси ординат как 'Kt'\n",
        "\n",
        "\n",
        "plt.pcolormesh(energy_arr,cmap='gnuplot2')# отобразить цветовую карту\n",
        "plt.colorbar();"
      ],
      "metadata": {
        "colab": {
          "base_uri": "https://localhost:8080/",
          "height": 449
        },
        "id": "jxc927jdRs4o",
        "outputId": "355b06ec-6aaf-4a59-a265-5a10324dc80e"
      },
      "id": "jxc927jdRs4o",
      "execution_count": 140,
      "outputs": [
        {
          "output_type": "display_data",
          "data": {
            "text/plain": [
              "<Figure size 640x480 with 2 Axes>"
            ],
            "image/png": "[encoded data removed]"
          },
          "metadata": {}
        }
      ]
    },
    {
      "cell_type": "code",
      "source": [],
      "metadata": {
        "id": "WRQSGXPMbZMV"
      },
      "id": "WRQSGXPMbZMV",
      "execution_count": null,
      "outputs": []
    }
  ],
  "metadata": {
    "kernelspec": {
      "display_name": "Python 3 (ipykernel)",
      "language": "python",
      "name": "python3"
    },
    "language_info": {
      "codemirror_mode": {
        "name": "ipython",
        "version": 3
      },
      "file_extension": ".py",
      "mimetype": "text/x-python",
      "name": "python",
      "nbconvert_exporter": "python",
      "pygments_lexer": "ipython3",
      "version": "3.10.5"
    },
    "colab": {
      "provenance": []
    }
  },
  "nbformat": 4,
  "nbformat_minor": 5
}